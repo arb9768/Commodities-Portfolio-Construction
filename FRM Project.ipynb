{
 "cells": [
  {
   "cell_type": "markdown",
   "metadata": {},
   "source": [
    "<b>Importing the libraries"
   ]
  },
  {
   "cell_type": "code",
   "execution_count": 55,
   "metadata": {},
   "outputs": [],
   "source": [
    "import pandas as pd\n",
    "import yfinance as yf\n",
    "import numpy as np\n",
    "from datetime import datetime\n",
    "import matplotlib.pyplot as plt\n",
    "%matplotlib inline\n",
    "plt.style.use('fivethirtyeight')"
   ]
  },
  {
   "cell_type": "markdown",
   "metadata": {},
   "source": [
    "<b>Fetching the data from yfinance (S&P 500 and S&P Commodity Index)"
   ]
  },
  {
   "cell_type": "code",
   "execution_count": 56,
   "metadata": {},
   "outputs": [
    {
     "data": {
      "text/html": [
       "<div>\n",
       "<style scoped>\n",
       "    .dataframe tbody tr th:only-of-type {\n",
       "        vertical-align: middle;\n",
       "    }\n",
       "\n",
       "    .dataframe tbody tr th {\n",
       "        vertical-align: top;\n",
       "    }\n",
       "\n",
       "    .dataframe thead th {\n",
       "        text-align: right;\n",
       "    }\n",
       "</style>\n",
       "<table border=\"1\" class=\"dataframe\">\n",
       "  <thead>\n",
       "    <tr style=\"text-align: right;\">\n",
       "      <th></th>\n",
       "      <th>Open</th>\n",
       "      <th>High</th>\n",
       "      <th>Low</th>\n",
       "      <th>Close</th>\n",
       "      <th>Volume</th>\n",
       "      <th>Dividends</th>\n",
       "      <th>Stock Splits</th>\n",
       "    </tr>\n",
       "    <tr>\n",
       "      <th>Date</th>\n",
       "      <th></th>\n",
       "      <th></th>\n",
       "      <th></th>\n",
       "      <th></th>\n",
       "      <th></th>\n",
       "      <th></th>\n",
       "      <th></th>\n",
       "    </tr>\n",
       "  </thead>\n",
       "  <tbody>\n",
       "    <tr>\n",
       "      <th>2012-11-12</th>\n",
       "      <td>1379.859985</td>\n",
       "      <td>1384.869995</td>\n",
       "      <td>1377.189941</td>\n",
       "      <td>1380.030029</td>\n",
       "      <td>2567540000</td>\n",
       "      <td>0</td>\n",
       "      <td>0</td>\n",
       "    </tr>\n",
       "    <tr>\n",
       "      <th>2012-11-13</th>\n",
       "      <td>1380.030029</td>\n",
       "      <td>1388.810059</td>\n",
       "      <td>1371.390015</td>\n",
       "      <td>1374.530029</td>\n",
       "      <td>3455550000</td>\n",
       "      <td>0</td>\n",
       "      <td>0</td>\n",
       "    </tr>\n",
       "    <tr>\n",
       "      <th>2012-11-14</th>\n",
       "      <td>1374.640015</td>\n",
       "      <td>1380.130005</td>\n",
       "      <td>1352.500000</td>\n",
       "      <td>1355.489990</td>\n",
       "      <td>4109510000</td>\n",
       "      <td>0</td>\n",
       "      <td>0</td>\n",
       "    </tr>\n",
       "    <tr>\n",
       "      <th>2012-11-15</th>\n",
       "      <td>1355.410034</td>\n",
       "      <td>1360.619995</td>\n",
       "      <td>1348.050049</td>\n",
       "      <td>1353.329956</td>\n",
       "      <td>3928870000</td>\n",
       "      <td>0</td>\n",
       "      <td>0</td>\n",
       "    </tr>\n",
       "    <tr>\n",
       "      <th>2012-11-16</th>\n",
       "      <td>1353.359985</td>\n",
       "      <td>1362.030029</td>\n",
       "      <td>1343.349976</td>\n",
       "      <td>1359.880005</td>\n",
       "      <td>4045910000</td>\n",
       "      <td>0</td>\n",
       "      <td>0</td>\n",
       "    </tr>\n",
       "  </tbody>\n",
       "</table>\n",
       "</div>"
      ],
      "text/plain": [
       "                   Open         High          Low        Close      Volume  \\\n",
       "Date                                                                         \n",
       "2012-11-12  1379.859985  1384.869995  1377.189941  1380.030029  2567540000   \n",
       "2012-11-13  1380.030029  1388.810059  1371.390015  1374.530029  3455550000   \n",
       "2012-11-14  1374.640015  1380.130005  1352.500000  1355.489990  4109510000   \n",
       "2012-11-15  1355.410034  1360.619995  1348.050049  1353.329956  3928870000   \n",
       "2012-11-16  1353.359985  1362.030029  1343.349976  1359.880005  4045910000   \n",
       "\n",
       "            Dividends  Stock Splits  \n",
       "Date                                 \n",
       "2012-11-12          0             0  \n",
       "2012-11-13          0             0  \n",
       "2012-11-14          0             0  \n",
       "2012-11-15          0             0  \n",
       "2012-11-16          0             0  "
      ]
     },
     "execution_count": 56,
     "metadata": {},
     "output_type": "execute_result"
    }
   ],
   "source": [
    "ticker = yf.Ticker('^GSPC')\n",
    "gspc_df = ticker.history(period=\"10y\")\n",
    "gspc_df.head()"
   ]
  },
  {
   "cell_type": "code",
   "execution_count": 57,
   "metadata": {},
   "outputs": [
    {
     "data": {
      "text/html": [
       "<div>\n",
       "<style scoped>\n",
       "    .dataframe tbody tr th:only-of-type {\n",
       "        vertical-align: middle;\n",
       "    }\n",
       "\n",
       "    .dataframe tbody tr th {\n",
       "        vertical-align: top;\n",
       "    }\n",
       "\n",
       "    .dataframe thead th {\n",
       "        text-align: right;\n",
       "    }\n",
       "</style>\n",
       "<table border=\"1\" class=\"dataframe\">\n",
       "  <thead>\n",
       "    <tr style=\"text-align: right;\">\n",
       "      <th></th>\n",
       "      <th>Open</th>\n",
       "      <th>High</th>\n",
       "      <th>Low</th>\n",
       "      <th>Close</th>\n",
       "      <th>Volume</th>\n",
       "      <th>Dividends</th>\n",
       "      <th>Stock Splits</th>\n",
       "    </tr>\n",
       "    <tr>\n",
       "      <th>Date</th>\n",
       "      <th></th>\n",
       "      <th></th>\n",
       "      <th></th>\n",
       "      <th></th>\n",
       "      <th></th>\n",
       "      <th></th>\n",
       "      <th></th>\n",
       "    </tr>\n",
       "  </thead>\n",
       "  <tbody>\n",
       "    <tr>\n",
       "      <th>2012-11-12</th>\n",
       "      <td>636.090027</td>\n",
       "      <td>639.679993</td>\n",
       "      <td>633.159973</td>\n",
       "      <td>634.520020</td>\n",
       "      <td>0</td>\n",
       "      <td>0</td>\n",
       "      <td>0</td>\n",
       "    </tr>\n",
       "    <tr>\n",
       "      <th>2012-11-13</th>\n",
       "      <td>633.760010</td>\n",
       "      <td>635.169983</td>\n",
       "      <td>629.640015</td>\n",
       "      <td>633.320007</td>\n",
       "      <td>0</td>\n",
       "      <td>0</td>\n",
       "      <td>0</td>\n",
       "    </tr>\n",
       "    <tr>\n",
       "      <th>2012-11-14</th>\n",
       "      <td>633.400024</td>\n",
       "      <td>640.159973</td>\n",
       "      <td>632.119995</td>\n",
       "      <td>637.390015</td>\n",
       "      <td>0</td>\n",
       "      <td>0</td>\n",
       "      <td>0</td>\n",
       "    </tr>\n",
       "    <tr>\n",
       "      <th>2012-11-15</th>\n",
       "      <td>637.880005</td>\n",
       "      <td>640.380005</td>\n",
       "      <td>630.909973</td>\n",
       "      <td>634.099976</td>\n",
       "      <td>0</td>\n",
       "      <td>0</td>\n",
       "      <td>0</td>\n",
       "    </tr>\n",
       "    <tr>\n",
       "      <th>2012-11-16</th>\n",
       "      <td>633.559998</td>\n",
       "      <td>638.030029</td>\n",
       "      <td>631.400024</td>\n",
       "      <td>637.010010</td>\n",
       "      <td>0</td>\n",
       "      <td>0</td>\n",
       "      <td>0</td>\n",
       "    </tr>\n",
       "  </tbody>\n",
       "</table>\n",
       "</div>"
      ],
      "text/plain": [
       "                  Open        High         Low       Close  Volume  Dividends  \\\n",
       "Date                                                                            \n",
       "2012-11-12  636.090027  639.679993  633.159973  634.520020       0          0   \n",
       "2012-11-13  633.760010  635.169983  629.640015  633.320007       0          0   \n",
       "2012-11-14  633.400024  640.159973  632.119995  637.390015       0          0   \n",
       "2012-11-15  637.880005  640.380005  630.909973  634.099976       0          0   \n",
       "2012-11-16  633.559998  638.030029  631.400024  637.010010       0          0   \n",
       "\n",
       "            Stock Splits  \n",
       "Date                      \n",
       "2012-11-12             0  \n",
       "2012-11-13             0  \n",
       "2012-11-14             0  \n",
       "2012-11-15             0  \n",
       "2012-11-16             0  "
      ]
     },
     "execution_count": 57,
     "metadata": {},
     "output_type": "execute_result"
    }
   ],
   "source": [
    "ticker = yf.Ticker('^SPGSCI')\n",
    "spgsci_df = ticker.history(period=\"10y\")\n",
    "spgsci_df.head()"
   ]
  },
  {
   "cell_type": "markdown",
   "metadata": {},
   "source": [
    "<b>Concatenating the data"
   ]
  },
  {
   "cell_type": "code",
   "execution_count": 58,
   "metadata": {},
   "outputs": [
    {
     "data": {
      "text/html": [
       "<div>\n",
       "<style scoped>\n",
       "    .dataframe tbody tr th:only-of-type {\n",
       "        vertical-align: middle;\n",
       "    }\n",
       "\n",
       "    .dataframe tbody tr th {\n",
       "        vertical-align: top;\n",
       "    }\n",
       "\n",
       "    .dataframe thead th {\n",
       "        text-align: right;\n",
       "    }\n",
       "</style>\n",
       "<table border=\"1\" class=\"dataframe\">\n",
       "  <thead>\n",
       "    <tr style=\"text-align: right;\">\n",
       "      <th></th>\n",
       "      <th>Equity</th>\n",
       "      <th>Commodity</th>\n",
       "    </tr>\n",
       "    <tr>\n",
       "      <th>Date</th>\n",
       "      <th></th>\n",
       "      <th></th>\n",
       "    </tr>\n",
       "  </thead>\n",
       "  <tbody>\n",
       "    <tr>\n",
       "      <th>2012-11-12</th>\n",
       "      <td>1380.030029</td>\n",
       "      <td>634.520020</td>\n",
       "    </tr>\n",
       "    <tr>\n",
       "      <th>2012-11-13</th>\n",
       "      <td>1374.530029</td>\n",
       "      <td>633.320007</td>\n",
       "    </tr>\n",
       "    <tr>\n",
       "      <th>2012-11-14</th>\n",
       "      <td>1355.489990</td>\n",
       "      <td>637.390015</td>\n",
       "    </tr>\n",
       "    <tr>\n",
       "      <th>2012-11-15</th>\n",
       "      <td>1353.329956</td>\n",
       "      <td>634.099976</td>\n",
       "    </tr>\n",
       "    <tr>\n",
       "      <th>2012-11-16</th>\n",
       "      <td>1359.880005</td>\n",
       "      <td>637.010010</td>\n",
       "    </tr>\n",
       "  </tbody>\n",
       "</table>\n",
       "</div>"
      ],
      "text/plain": [
       "                 Equity   Commodity\n",
       "Date                               \n",
       "2012-11-12  1380.030029  634.520020\n",
       "2012-11-13  1374.530029  633.320007\n",
       "2012-11-14  1355.489990  637.390015\n",
       "2012-11-15  1353.329956  634.099976\n",
       "2012-11-16  1359.880005  637.010010"
      ]
     },
     "execution_count": 58,
     "metadata": {},
     "output_type": "execute_result"
    }
   ],
   "source": [
    "df = pd.concat([gspc_df['Close'], spgsci_df['Close']],axis=1)\n",
    "df.columns = ['Equity','Commodity']\n",
    "df.head()"
   ]
  },
  {
   "cell_type": "markdown",
   "metadata": {},
   "source": [
    "<b>Covariance Matrix"
   ]
  },
  {
   "cell_type": "code",
   "execution_count": 59,
   "metadata": {},
   "outputs": [
    {
     "data": {
      "text/html": [
       "<div>\n",
       "<style scoped>\n",
       "    .dataframe tbody tr th:only-of-type {\n",
       "        vertical-align: middle;\n",
       "    }\n",
       "\n",
       "    .dataframe tbody tr th {\n",
       "        vertical-align: top;\n",
       "    }\n",
       "\n",
       "    .dataframe thead th {\n",
       "        text-align: right;\n",
       "    }\n",
       "</style>\n",
       "<table border=\"1\" class=\"dataframe\">\n",
       "  <thead>\n",
       "    <tr style=\"text-align: right;\">\n",
       "      <th></th>\n",
       "      <th>Equity</th>\n",
       "      <th>Commodity</th>\n",
       "    </tr>\n",
       "  </thead>\n",
       "  <tbody>\n",
       "    <tr>\n",
       "      <th>Equity</th>\n",
       "      <td>0.000123</td>\n",
       "      <td>0.000050</td>\n",
       "    </tr>\n",
       "    <tr>\n",
       "      <th>Commodity</th>\n",
       "      <td>0.000050</td>\n",
       "      <td>0.000193</td>\n",
       "    </tr>\n",
       "  </tbody>\n",
       "</table>\n",
       "</div>"
      ],
      "text/plain": [
       "             Equity  Commodity\n",
       "Equity     0.000123   0.000050\n",
       "Commodity  0.000050   0.000193"
      ]
     },
     "execution_count": 59,
     "metadata": {},
     "output_type": "execute_result"
    }
   ],
   "source": [
    "cov_matrix = df.pct_change().apply(lambda x: np.log(1+x)).cov()\n",
    "cov_matrix"
   ]
  },
  {
   "cell_type": "markdown",
   "metadata": {},
   "source": [
    "<b>Correlation Matrix"
   ]
  },
  {
   "cell_type": "code",
   "execution_count": 60,
   "metadata": {},
   "outputs": [
    {
     "data": {
      "text/html": [
       "<div>\n",
       "<style scoped>\n",
       "    .dataframe tbody tr th:only-of-type {\n",
       "        vertical-align: middle;\n",
       "    }\n",
       "\n",
       "    .dataframe tbody tr th {\n",
       "        vertical-align: top;\n",
       "    }\n",
       "\n",
       "    .dataframe thead th {\n",
       "        text-align: right;\n",
       "    }\n",
       "</style>\n",
       "<table border=\"1\" class=\"dataframe\">\n",
       "  <thead>\n",
       "    <tr style=\"text-align: right;\">\n",
       "      <th></th>\n",
       "      <th>Equity</th>\n",
       "      <th>Commodity</th>\n",
       "    </tr>\n",
       "  </thead>\n",
       "  <tbody>\n",
       "    <tr>\n",
       "      <th>Equity</th>\n",
       "      <td>1.000000</td>\n",
       "      <td>0.321919</td>\n",
       "    </tr>\n",
       "    <tr>\n",
       "      <th>Commodity</th>\n",
       "      <td>0.321919</td>\n",
       "      <td>1.000000</td>\n",
       "    </tr>\n",
       "  </tbody>\n",
       "</table>\n",
       "</div>"
      ],
      "text/plain": [
       "             Equity  Commodity\n",
       "Equity     1.000000   0.321919\n",
       "Commodity  0.321919   1.000000"
      ]
     },
     "execution_count": 60,
     "metadata": {},
     "output_type": "execute_result"
    }
   ],
   "source": [
    "corr_matrix = df.pct_change().apply(lambda x: np.log(1+x)).corr()\n",
    "corr_matrix"
   ]
  },
  {
   "cell_type": "markdown",
   "metadata": {},
   "source": [
    "<b>Assuming weights and calculating portfolio variance"
   ]
  },
  {
   "cell_type": "code",
   "execution_count": 61,
   "metadata": {},
   "outputs": [
    {
     "data": {
      "text/plain": [
       "9.971594259491348e-05"
      ]
     },
     "execution_count": 61,
     "metadata": {},
     "output_type": "execute_result"
    }
   ],
   "source": [
    "w = {'Equity': 0.75, 'Commodity': 0.25}\n",
    "port_var = cov_matrix.mul(w, axis=0).mul(w, axis=1).sum().sum()\n",
    "port_var"
   ]
  },
  {
   "cell_type": "markdown",
   "metadata": {},
   "source": [
    "<b>Individual Returns (resampled to yearly)"
   ]
  },
  {
   "cell_type": "code",
   "execution_count": 62,
   "metadata": {},
   "outputs": [
    {
     "data": {
      "text/plain": [
       "Equity       0.118022\n",
       "Commodity    0.022969\n",
       "dtype: float64"
      ]
     },
     "execution_count": 62,
     "metadata": {},
     "output_type": "execute_result"
    }
   ],
   "source": [
    "ind_ret = df.resample('Y').last().pct_change().mean()\n",
    "ind_ret"
   ]
  },
  {
   "cell_type": "markdown",
   "metadata": {},
   "source": [
    "<b>Portfolio Returns"
   ]
  },
  {
   "cell_type": "code",
   "execution_count": 63,
   "metadata": {},
   "outputs": [
    {
     "data": {
      "text/plain": [
       "0.09425883244295212"
      ]
     },
     "execution_count": 63,
     "metadata": {},
     "output_type": "execute_result"
    }
   ],
   "source": [
    "w = [0.75, 0.25]\n",
    "port_ret = (w*ind_ret).sum()\n",
    "port_ret"
   ]
  },
  {
   "cell_type": "markdown",
   "metadata": {},
   "source": [
    "<b>Annual Standard Deviation (Volatility)"
   ]
  },
  {
   "cell_type": "code",
   "execution_count": 64,
   "metadata": {},
   "outputs": [
    {
     "data": {
      "text/plain": [
       "Equity       0.175870\n",
       "Commodity    0.220705\n",
       "dtype: float64"
      ]
     },
     "execution_count": 64,
     "metadata": {},
     "output_type": "execute_result"
    }
   ],
   "source": [
    "ann_sd = df.pct_change().apply(lambda x: np.log(1+x)).std().apply(lambda x: x*np.sqrt(252))\n",
    "ann_sd"
   ]
  },
  {
   "cell_type": "markdown",
   "metadata": {},
   "source": [
    "<b>Concatenating returns and volatility"
   ]
  },
  {
   "cell_type": "code",
   "execution_count": 65,
   "metadata": {},
   "outputs": [
    {
     "data": {
      "text/html": [
       "<div>\n",
       "<style scoped>\n",
       "    .dataframe tbody tr th:only-of-type {\n",
       "        vertical-align: middle;\n",
       "    }\n",
       "\n",
       "    .dataframe tbody tr th {\n",
       "        vertical-align: top;\n",
       "    }\n",
       "\n",
       "    .dataframe thead th {\n",
       "        text-align: right;\n",
       "    }\n",
       "</style>\n",
       "<table border=\"1\" class=\"dataframe\">\n",
       "  <thead>\n",
       "    <tr style=\"text-align: right;\">\n",
       "      <th></th>\n",
       "      <th>Returns</th>\n",
       "      <th>Volatility</th>\n",
       "    </tr>\n",
       "  </thead>\n",
       "  <tbody>\n",
       "    <tr>\n",
       "      <th>Equity</th>\n",
       "      <td>0.118022</td>\n",
       "      <td>0.175870</td>\n",
       "    </tr>\n",
       "    <tr>\n",
       "      <th>Commodity</th>\n",
       "      <td>0.022969</td>\n",
       "      <td>0.220705</td>\n",
       "    </tr>\n",
       "  </tbody>\n",
       "</table>\n",
       "</div>"
      ],
      "text/plain": [
       "            Returns  Volatility\n",
       "Equity     0.118022    0.175870\n",
       "Commodity  0.022969    0.220705"
      ]
     },
     "execution_count": 65,
     "metadata": {},
     "output_type": "execute_result"
    }
   ],
   "source": [
    "assets = pd.concat([ind_ret, ann_sd], axis=1)\n",
    "assets.columns = ['Returns', 'Volatility']\n",
    "assets"
   ]
  },
  {
   "cell_type": "markdown",
   "metadata": {},
   "source": [
    "<b>Defining portfolio parameters and 10000 portfolios for simulation"
   ]
  },
  {
   "cell_type": "code",
   "execution_count": 66,
   "metadata": {},
   "outputs": [],
   "source": [
    "p_ret = []\n",
    "p_vol = [] \n",
    "p_weights = [] \n",
    "\n",
    "num_assets = len(df.columns)\n",
    "num_portfolios = 10000"
   ]
  },
  {
   "cell_type": "markdown",
   "metadata": {},
   "source": [
    "<b>Setting random weights, setting the sum to 1 and calculating portfolio return and volatility"
   ]
  },
  {
   "cell_type": "code",
   "execution_count": 67,
   "metadata": {},
   "outputs": [],
   "source": [
    "for portfolio in range(num_portfolios):\n",
    "    weights = np.random.random(num_assets)\n",
    "    weights = weights/np.sum(weights)\n",
    "    p_weights.append(weights)\n",
    "    \n",
    "    returns = np.dot(weights, ind_ret) \n",
    "    p_ret.append(returns)\n",
    "    \n",
    "    var = cov_matrix.mul(weights, axis=0).mul(weights, axis=1).sum().sum()\n",
    "    sd = np.sqrt(var) \n",
    "    ann_sd = sd*np.sqrt(252)\n",
    "    p_vol.append(ann_sd)"
   ]
  },
  {
   "cell_type": "markdown",
   "metadata": {},
   "source": [
    "<b>Defining the portfolio dataframe"
   ]
  },
  {
   "cell_type": "code",
   "execution_count": 68,
   "metadata": {},
   "outputs": [],
   "source": [
    "data = {'Returns':p_ret, 'Volatility':p_vol}\n",
    "\n",
    "for counter, symbol in enumerate(df.columns.tolist()):\n",
    "    data[symbol+' weight'] = [w[counter] for w in p_weights]"
   ]
  },
  {
   "cell_type": "code",
   "execution_count": 69,
   "metadata": {},
   "outputs": [
    {
     "data": {
      "text/html": [
       "<div>\n",
       "<style scoped>\n",
       "    .dataframe tbody tr th:only-of-type {\n",
       "        vertical-align: middle;\n",
       "    }\n",
       "\n",
       "    .dataframe tbody tr th {\n",
       "        vertical-align: top;\n",
       "    }\n",
       "\n",
       "    .dataframe thead th {\n",
       "        text-align: right;\n",
       "    }\n",
       "</style>\n",
       "<table border=\"1\" class=\"dataframe\">\n",
       "  <thead>\n",
       "    <tr style=\"text-align: right;\">\n",
       "      <th></th>\n",
       "      <th>Returns</th>\n",
       "      <th>Volatility</th>\n",
       "      <th>Equity weight</th>\n",
       "      <th>Commodity weight</th>\n",
       "    </tr>\n",
       "  </thead>\n",
       "  <tbody>\n",
       "    <tr>\n",
       "      <th>0</th>\n",
       "      <td>0.090004</td>\n",
       "      <td>0.157514</td>\n",
       "      <td>0.705233</td>\n",
       "      <td>0.294767</td>\n",
       "    </tr>\n",
       "    <tr>\n",
       "      <th>1</th>\n",
       "      <td>0.071062</td>\n",
       "      <td>0.161412</td>\n",
       "      <td>0.505959</td>\n",
       "      <td>0.494041</td>\n",
       "    </tr>\n",
       "    <tr>\n",
       "      <th>2</th>\n",
       "      <td>0.059699</td>\n",
       "      <td>0.169949</td>\n",
       "      <td>0.386414</td>\n",
       "      <td>0.613586</td>\n",
       "    </tr>\n",
       "    <tr>\n",
       "      <th>3</th>\n",
       "      <td>0.055786</td>\n",
       "      <td>0.173834</td>\n",
       "      <td>0.345245</td>\n",
       "      <td>0.654755</td>\n",
       "    </tr>\n",
       "    <tr>\n",
       "      <th>4</th>\n",
       "      <td>0.090943</td>\n",
       "      <td>0.157677</td>\n",
       "      <td>0.715120</td>\n",
       "      <td>0.284880</td>\n",
       "    </tr>\n",
       "  </tbody>\n",
       "</table>\n",
       "</div>"
      ],
      "text/plain": [
       "    Returns  Volatility  Equity weight  Commodity weight\n",
       "0  0.090004    0.157514       0.705233          0.294767\n",
       "1  0.071062    0.161412       0.505959          0.494041\n",
       "2  0.059699    0.169949       0.386414          0.613586\n",
       "3  0.055786    0.173834       0.345245          0.654755\n",
       "4  0.090943    0.157677       0.715120          0.284880"
      ]
     },
     "execution_count": 69,
     "metadata": {},
     "output_type": "execute_result"
    }
   ],
   "source": [
    "portfolios  = pd.DataFrame(data)\n",
    "portfolios.head()"
   ]
  },
  {
   "cell_type": "markdown",
   "metadata": {},
   "source": [
    "<b>Defining a minimum volatility portfolio"
   ]
  },
  {
   "cell_type": "code",
   "execution_count": 70,
   "metadata": {},
   "outputs": [
    {
     "data": {
      "text/plain": [
       "Returns             0.085960\n",
       "Volatility          0.157199\n",
       "Equity weight       0.662690\n",
       "Commodity weight    0.337310\n",
       "Name: 2416, dtype: float64"
      ]
     },
     "execution_count": 70,
     "metadata": {},
     "output_type": "execute_result"
    }
   ],
   "source": [
    "min_vol_port = portfolios.iloc[portfolios['Volatility'].idxmin()]\n",
    "min_vol_port"
   ]
  },
  {
   "cell_type": "markdown",
   "metadata": {},
   "source": [
    "<b>Defining a optimal risky portfolio"
   ]
  },
  {
   "cell_type": "code",
   "execution_count": 71,
   "metadata": {},
   "outputs": [
    {
     "data": {
      "text/plain": [
       "Returns             0.118000\n",
       "Volatility          0.175846\n",
       "Equity weight       0.999769\n",
       "Commodity weight    0.000231\n",
       "Name: 2950, dtype: float64"
      ]
     },
     "execution_count": 71,
     "metadata": {},
     "output_type": "execute_result"
    }
   ],
   "source": [
    "rf = 0.0431\n",
    "optimal_risky_port = portfolios.iloc[((portfolios['Returns']-rf)/(portfolios['Volatility'])).idxmax()]\n",
    "optimal_risky_port"
   ]
  },
  {
   "cell_type": "markdown",
   "metadata": {},
   "source": [
    "<b>Plotting efficient frontier with the 2 portfolios"
   ]
  },
  {
   "cell_type": "code",
   "execution_count": 72,
   "metadata": {},
   "outputs": [
    {
     "data": {
      "text/plain": [
       "<matplotlib.collections.PathCollection at 0x7fef1a16daf0>"
      ]
     },
     "execution_count": 72,
     "metadata": {},
     "output_type": "execute_result"
    },
    {
     "data": {
      "image/png": "[encoded data removed]",
      "text/plain": [
       "<Figure size 576x360 with 1 Axes>"
      ]
     },
     "metadata": {},
     "output_type": "display_data"
    }
   ],
   "source": [
    "plt.subplots(figsize=(8, 5))\n",
    "plt.scatter(portfolios['Volatility'], portfolios['Returns'],marker='o', s=10, alpha=0.3)\n",
    "plt.scatter(min_vol_port[1], min_vol_port[0], color='r', marker='*', s=500)\n",
    "plt.scatter(optimal_risky_port[1], optimal_risky_port[0], color='g', marker='*', s=500)"
   ]
  },
  {
   "cell_type": "code",
   "execution_count": null,
   "metadata": {},
   "outputs": [],
   "source": []
  },
  {
   "cell_type": "code",
   "execution_count": null,
   "metadata": {},
   "outputs": [],
   "source": []
  },
  {
   "cell_type": "code",
   "execution_count": null,
   "metadata": {},
   "outputs": [],
   "source": []
  }
 ],
 "metadata": {
  "kernelspec": {
   "display_name": "Python 3",
   "language": "python",
   "name": "python3"
  },
  "language_info": {
   "codemirror_mode": {
    "name": "ipython",
    "version": 3
   },
   "file_extension": ".py",
   "mimetype": "text/x-python",
   "name": "python",
   "nbconvert_exporter": "python",
   "pygments_lexer": "ipython3",
   "version": "3.8.5"
  }
 },
 "nbformat": 4,
 "nbformat_minor": 4
}
